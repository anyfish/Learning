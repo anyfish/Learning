{
 "cells": [
  {
   "cell_type": "markdown",
   "id": "b1a0a830",
   "metadata": {},
   "source": [
    "# Division del conjunto de datos"
   ]
  },
  {
   "cell_type": "markdown",
   "id": "998717ed",
   "metadata": {},
   "source": [
    "En este notebook se muestran algunos de los mecanismos más utilizados para la división del conjunto de datos."
   ]
  },
  {
   "cell_type": "markdown",
   "id": "b95df728",
   "metadata": {},
   "source": [
    "## Conjunto de Datos "
   ]
  },
  {
   "cell_type": "markdown",
   "id": "462cbce2",
   "metadata": {},
   "source": [
    "### Descripción\n",
    "NSL-KDD is a data set suggested to solve some of the inherent problems of the KDD'99 data set which are mentioned in. Although, this new version of the KDD data set still suffers from some of the problems discussed by McHugh and may not be a perfect representative of existing real networks, because of the lack of public data sets for network-based IDSs, we believe it still can be applied as an effective benchmark data set to help researchers compare different intrusion detection methods. Furthermore, the number of records in the NSL-KDD train and test sets are reasonable. This advantage makes it affordable to run the experiments on the complete set without the need to randomly select a small portion. Consequently, evaluation results of different research work will be consistent and comparable.\n",
    "\n",
    "### Ficheros de datos\n",
    "* <span style=\"color:green\">**KDDTrain+.ARFF**: The full NSL-KDD train set with binary labels in ARFF format</span>\n",
    "* KDDTrain+.TXT: The full NSL-KDD train set including attack-type labels and difficulty level in CSV format\n",
    "* KDDTrain+_20Percent.ARFF:\tA 20% subset of the KDDTrain+.arff file\n",
    "* KDDTrain+_20Percent.TXT:\tA 20% subset of the KDDTrain+.txt file\n",
    "* KDDTest+.ARFF:\tThe full NSL-KDD test set with binary labels in ARFF format\n",
    "* KDDTest+.TXT:\tThe full NSL-KDD test set including attack-type labels and difficulty level in CSV format\n",
    "* KDDTest-21.ARFF:\tA subset of the KDDTest+.arff file which does not include records with difficulty level of 21 out of 21\n",
    "* KDDTest-21.TXT:\tA subset of the KDDTest+.txt file which does not include records with difficulty level of 21 out of 21\n",
    "\n",
    "### Descarga de los ficheros de datos\n",
    "https://iscxdownloads.cs.unb.ca/iscxdownloads/NSL-KDD/#NSL-KDD\n",
    "\n",
    "### Referencias adicionales sobre el conjunto de datos\n",
    "_M. Tavallaee, E. Bagheri, W. Lu, and A. Ghorbani, “A Detailed Analysis of the KDD CUP 99 Data Set,” Submitted to Second IEEE Symposium on Computational Intelligence for Security and Defense Applications (CISDA), 2009._"
   ]
  },
  {
   "cell_type": "markdown",
   "id": "1c017d42",
   "metadata": {},
   "source": [
    "## Lectura del Conjunto de Datos"
   ]
  },
  {
   "cell_type": "code",
   "execution_count": 2,
   "id": "c0386cce",
   "metadata": {},
   "outputs": [],
   "source": [
    "import arff\n",
    "import pandas as pd "
   ]
  },
  {
   "cell_type": "code",
   "execution_count": 3,
   "id": "387a550b",
   "metadata": {},
   "outputs": [],
   "source": [
    "# Creamos una funcion con el parametro \"data_path\" para parcear el fichero arf \n",
    "def load_kdd_dataset(data_path):\n",
    "    # Abrir el documento arff y tranformarlo y nombrarlo como el conjunto de entrenamiento \"train_set\"\n",
    "    with open(data_path, 'r') as train_set:\n",
    "        #Creamos la var \"dataset\" para cargar el archivo arff\n",
    "        dataset = arff.load(train_set)\n",
    "    # Se crea un \"List Comprehesion\"\n",
    "        # 1. Agregamos el valor \"attr\" desde el incide 0\n",
    "        # 2. Creamos un ciclo for donde \"el iterador \"attr\" pase por todos los elementos en \"attribute\"\n",
    "    attributes = [attr[0] for attr in dataset[\"attributes\"]]\n",
    "    # Retornamos un DataFrame de Pandas con los valores de \"data\" en el archivo arff y los la var \"attribute\"\n",
    "    return pd.DataFrame(dataset[\"data\"], columns = attributes)"
   ]
  },
  {
   "cell_type": "code",
   "execution_count": 4,
   "id": "00033a02",
   "metadata": {},
   "outputs": [],
   "source": [
    "# Creamos una var \"df\" donde almacenaremos la funcion(parametro)\n",
    "df = load_kdd_dataset(r\"C:\\Users\\Martin Farrera\\OneDrive\\Escri\n",
    "                      torio\\Udemy\\ML\\Division_de_Datos\\NSL-KDD\\KDDTrain+.arff\")"
   ]
  },
  {
   "cell_type": "code",
   "execution_count": 5,
   "id": "22cbc85d",
   "metadata": {},
   "outputs": [
    {
     "name": "stdout",
     "output_type": "stream",
     "text": [
      "<class 'pandas.core.frame.DataFrame'>\n",
      "RangeIndex: 125973 entries, 0 to 125972\n",
      "Data columns (total 42 columns):\n",
      " #   Column                       Non-Null Count   Dtype  \n",
      "---  ------                       --------------   -----  \n",
      " 0   duration                     125973 non-null  float64\n",
      " 1   protocol_type                125973 non-null  object \n",
      " 2   service                      125973 non-null  object \n",
      " 3   flag                         125973 non-null  object \n",
      " 4   src_bytes                    125973 non-null  float64\n",
      " 5   dst_bytes                    125973 non-null  float64\n",
      " 6   land                         125973 non-null  object \n",
      " 7   wrong_fragment               125973 non-null  float64\n",
      " 8   urgent                       125973 non-null  float64\n",
      " 9   hot                          125973 non-null  float64\n",
      " 10  num_failed_logins            125973 non-null  float64\n",
      " 11  logged_in                    125973 non-null  object \n",
      " 12  num_compromised              125973 non-null  float64\n",
      " 13  root_shell                   125973 non-null  float64\n",
      " 14  su_attempted                 125973 non-null  float64\n",
      " 15  num_root                     125973 non-null  float64\n",
      " 16  num_file_creations           125973 non-null  float64\n",
      " 17  num_shells                   125973 non-null  float64\n",
      " 18  num_access_files             125973 non-null  float64\n",
      " 19  num_outbound_cmds            125973 non-null  float64\n",
      " 20  is_host_login                125973 non-null  object \n",
      " 21  is_guest_login               125973 non-null  object \n",
      " 22  count                        125973 non-null  float64\n",
      " 23  srv_count                    125973 non-null  float64\n",
      " 24  serror_rate                  125973 non-null  float64\n",
      " 25  srv_serror_rate              125973 non-null  float64\n",
      " 26  rerror_rate                  125973 non-null  float64\n",
      " 27  srv_rerror_rate              125973 non-null  float64\n",
      " 28  same_srv_rate                125973 non-null  float64\n",
      " 29  diff_srv_rate                125973 non-null  float64\n",
      " 30  srv_diff_host_rate           125973 non-null  float64\n",
      " 31  dst_host_count               125973 non-null  float64\n",
      " 32  dst_host_srv_count           125973 non-null  float64\n",
      " 33  dst_host_same_srv_rate       125973 non-null  float64\n",
      " 34  dst_host_diff_srv_rate       125973 non-null  float64\n",
      " 35  dst_host_same_src_port_rate  125973 non-null  float64\n",
      " 36  dst_host_srv_diff_host_rate  125973 non-null  float64\n",
      " 37  dst_host_serror_rate         125973 non-null  float64\n",
      " 38  dst_host_srv_serror_rate     125973 non-null  float64\n",
      " 39  dst_host_rerror_rate         125973 non-null  float64\n",
      " 40  dst_host_srv_rerror_rate     125973 non-null  float64\n",
      " 41  class                        125973 non-null  object \n",
      "dtypes: float64(34), object(8)\n",
      "memory usage: 40.4+ MB\n"
     ]
    }
   ],
   "source": [
    "# Usamos el metodo info() para ver las caracteristicas del conjunto de datos\n",
    "df.info()"
   ]
  },
  {
   "cell_type": "markdown",
   "id": "9c8c9141",
   "metadata": {},
   "source": [
    "## Division del Conjunto de Datos"
   ]
  },
  {
   "cell_type": "markdown",
   "id": "08d170dc",
   "metadata": {},
   "source": [
    "Se debe separar el conjunto de datos en los diferentes subconjuntos necesarios para realizar los procesos de:\n",
    "- entrenamiento\n",
    "- validación\n",
    "- pruebas\n",
    "\n",
    "Sklearn tiene implementada la función **split_train_test**."
   ]
  },
  {
   "cell_type": "code",
   "execution_count": 6,
   "id": "fe6f8421",
   "metadata": {},
   "outputs": [],
   "source": [
    "# Desde Sklearn importamos train_test_split\n",
    "from sklearn.model_selection import train_test_split\n",
    "\n",
    "# Separamos el conjunto de datos en 60% train_set y 40% para test_set\n",
    "# Parte 1,  Parte 2                     BD     TAMAÑO       Aleatoriedad\n",
    "train_set, test_set = train_test_split(df, test_size=0.4, random_state=42)"
   ]
  },
  {
   "cell_type": "code",
   "execution_count": 7,
   "id": "35dccea0",
   "metadata": {},
   "outputs": [
    {
     "name": "stdout",
     "output_type": "stream",
     "text": [
      "<class 'pandas.core.frame.DataFrame'>\n",
      "Int64Index: 75583 entries, 98320 to 121958\n",
      "Data columns (total 42 columns):\n",
      " #   Column                       Non-Null Count  Dtype  \n",
      "---  ------                       --------------  -----  \n",
      " 0   duration                     75583 non-null  float64\n",
      " 1   protocol_type                75583 non-null  object \n",
      " 2   service                      75583 non-null  object \n",
      " 3   flag                         75583 non-null  object \n",
      " 4   src_bytes                    75583 non-null  float64\n",
      " 5   dst_bytes                    75583 non-null  float64\n",
      " 6   land                         75583 non-null  object \n",
      " 7   wrong_fragment               75583 non-null  float64\n",
      " 8   urgent                       75583 non-null  float64\n",
      " 9   hot                          75583 non-null  float64\n",
      " 10  num_failed_logins            75583 non-null  float64\n",
      " 11  logged_in                    75583 non-null  object \n",
      " 12  num_compromised              75583 non-null  float64\n",
      " 13  root_shell                   75583 non-null  float64\n",
      " 14  su_attempted                 75583 non-null  float64\n",
      " 15  num_root                     75583 non-null  float64\n",
      " 16  num_file_creations           75583 non-null  float64\n",
      " 17  num_shells                   75583 non-null  float64\n",
      " 18  num_access_files             75583 non-null  float64\n",
      " 19  num_outbound_cmds            75583 non-null  float64\n",
      " 20  is_host_login                75583 non-null  object \n",
      " 21  is_guest_login               75583 non-null  object \n",
      " 22  count                        75583 non-null  float64\n",
      " 23  srv_count                    75583 non-null  float64\n",
      " 24  serror_rate                  75583 non-null  float64\n",
      " 25  srv_serror_rate              75583 non-null  float64\n",
      " 26  rerror_rate                  75583 non-null  float64\n",
      " 27  srv_rerror_rate              75583 non-null  float64\n",
      " 28  same_srv_rate                75583 non-null  float64\n",
      " 29  diff_srv_rate                75583 non-null  float64\n",
      " 30  srv_diff_host_rate           75583 non-null  float64\n",
      " 31  dst_host_count               75583 non-null  float64\n",
      " 32  dst_host_srv_count           75583 non-null  float64\n",
      " 33  dst_host_same_srv_rate       75583 non-null  float64\n",
      " 34  dst_host_diff_srv_rate       75583 non-null  float64\n",
      " 35  dst_host_same_src_port_rate  75583 non-null  float64\n",
      " 36  dst_host_srv_diff_host_rate  75583 non-null  float64\n",
      " 37  dst_host_serror_rate         75583 non-null  float64\n",
      " 38  dst_host_srv_serror_rate     75583 non-null  float64\n",
      " 39  dst_host_rerror_rate         75583 non-null  float64\n",
      " 40  dst_host_srv_rerror_rate     75583 non-null  float64\n",
      " 41  class                        75583 non-null  object \n",
      "dtypes: float64(34), object(8)\n",
      "memory usage: 24.8+ MB\n"
     ]
    }
   ],
   "source": [
    "train_set.info()"
   ]
  },
  {
   "cell_type": "code",
   "execution_count": 8,
   "id": "44feaf97",
   "metadata": {},
   "outputs": [
    {
     "name": "stdout",
     "output_type": "stream",
     "text": [
      "<class 'pandas.core.frame.DataFrame'>\n",
      "Int64Index: 50390 entries, 378 to 89600\n",
      "Data columns (total 42 columns):\n",
      " #   Column                       Non-Null Count  Dtype  \n",
      "---  ------                       --------------  -----  \n",
      " 0   duration                     50390 non-null  float64\n",
      " 1   protocol_type                50390 non-null  object \n",
      " 2   service                      50390 non-null  object \n",
      " 3   flag                         50390 non-null  object \n",
      " 4   src_bytes                    50390 non-null  float64\n",
      " 5   dst_bytes                    50390 non-null  float64\n",
      " 6   land                         50390 non-null  object \n",
      " 7   wrong_fragment               50390 non-null  float64\n",
      " 8   urgent                       50390 non-null  float64\n",
      " 9   hot                          50390 non-null  float64\n",
      " 10  num_failed_logins            50390 non-null  float64\n",
      " 11  logged_in                    50390 non-null  object \n",
      " 12  num_compromised              50390 non-null  float64\n",
      " 13  root_shell                   50390 non-null  float64\n",
      " 14  su_attempted                 50390 non-null  float64\n",
      " 15  num_root                     50390 non-null  float64\n",
      " 16  num_file_creations           50390 non-null  float64\n",
      " 17  num_shells                   50390 non-null  float64\n",
      " 18  num_access_files             50390 non-null  float64\n",
      " 19  num_outbound_cmds            50390 non-null  float64\n",
      " 20  is_host_login                50390 non-null  object \n",
      " 21  is_guest_login               50390 non-null  object \n",
      " 22  count                        50390 non-null  float64\n",
      " 23  srv_count                    50390 non-null  float64\n",
      " 24  serror_rate                  50390 non-null  float64\n",
      " 25  srv_serror_rate              50390 non-null  float64\n",
      " 26  rerror_rate                  50390 non-null  float64\n",
      " 27  srv_rerror_rate              50390 non-null  float64\n",
      " 28  same_srv_rate                50390 non-null  float64\n",
      " 29  diff_srv_rate                50390 non-null  float64\n",
      " 30  srv_diff_host_rate           50390 non-null  float64\n",
      " 31  dst_host_count               50390 non-null  float64\n",
      " 32  dst_host_srv_count           50390 non-null  float64\n",
      " 33  dst_host_same_srv_rate       50390 non-null  float64\n",
      " 34  dst_host_diff_srv_rate       50390 non-null  float64\n",
      " 35  dst_host_same_src_port_rate  50390 non-null  float64\n",
      " 36  dst_host_srv_diff_host_rate  50390 non-null  float64\n",
      " 37  dst_host_serror_rate         50390 non-null  float64\n",
      " 38  dst_host_srv_serror_rate     50390 non-null  float64\n",
      " 39  dst_host_rerror_rate         50390 non-null  float64\n",
      " 40  dst_host_srv_rerror_rate     50390 non-null  float64\n",
      " 41  class                        50390 non-null  object \n",
      "dtypes: float64(34), object(8)\n",
      "memory usage: 16.5+ MB\n"
     ]
    }
   ],
   "source": [
    "test_set.info()"
   ]
  },
  {
   "cell_type": "code",
   "execution_count": 9,
   "id": "dd000b4c",
   "metadata": {},
   "outputs": [],
   "source": [
    "# Parte 1,  Parte 2                     BD        TAMAÑO         Aleatoriedad\n",
    "val_set, test_set = train_test_split(test_set, test_size=0.5, random_state=42)"
   ]
  },
  {
   "cell_type": "code",
   "execution_count": 10,
   "id": "f72f0978",
   "metadata": {},
   "outputs": [
    {
     "name": "stdout",
     "output_type": "stream",
     "text": [
      "Longitud de Train Set:  75583\n",
      "Longitud de Test Sat:  25195\n",
      "Longitud de Validacion Set:  25195\n"
     ]
    }
   ],
   "source": [
    "print(\"Longitud de Train Set: \", len(train_set))\n",
    "print(\"Longitud de Test Sat: \", len(test_set))\n",
    "print(\"Longitud de Validacion Set: \", len(val_set))"
   ]
  },
  {
   "cell_type": "markdown",
   "id": "538a47ad",
   "metadata": {},
   "source": [
    "### Particionado Aleatorio y Stratified Sampling (Parametro: Shuffle)"
   ]
  },
  {
   "cell_type": "markdown",
   "id": "b80b2469",
   "metadata": {},
   "source": [
    "ADVERTENCIA:\n",
    "\n",
    "Sklearn tiene implementa la función **train_test_split**, sin embargo, esta función por defecto realiza un particionado del conjunto de datos aleatorio para cada vez que se ejecuta el script. \n",
    "\n",
    "Aún añadiendo una semilla fija para generación aleatoria.\n",
    "\n",
    "-------------\n",
    "\n",
    "PROBLEMA:\n",
    "\n",
    "Cada vez que carguemos de nuevo el conjunto de datos se generarán nuevos subconjuntos. Esto puede ocasionar que después de mucho intentos, el algoritmo \"vea\" todo el conjunto de datos.\n",
    "\n",
    "-------------\n",
    "\n",
    "SOLUCIÓN:\n",
    "\n",
    "Para solucionar este problema, Sklearn ha introducido el parámetro **\"shuffle\"** en la función **\"train_test_split\"**."
   ]
  },
  {
   "cell_type": "code",
   "execution_count": 13,
   "id": "a2f6f12f",
   "metadata": {},
   "outputs": [],
   "source": [
    "train_set, test_set = train_test_split(df, test_size=0.4, random_state=42, shuffle=False)"
   ]
  },
  {
   "cell_type": "markdown",
   "id": "2cf0b378",
   "metadata": {},
   "source": [
    "### Particionado Proporcional (Parametro: SRATIFY)"
   ]
  },
  {
   "cell_type": "markdown",
   "id": "ce766bb0",
   "metadata": {},
   "source": [
    "ADVERTENCIA:\n",
    "\n",
    "Estos métodos para dividir el conjunto de datos estan bien si tienes un conjunto de datos muy grande, pero si no lo tienes, corres el riesgo de introducir **\"sampling bias\"**.\n",
    "\n",
    "-------\n",
    "\n",
    "PROBLEMA:\n",
    "\n",
    "Sampling Bias: Que al ser aleatorio y uno de los set se quede sin representacion de uno de los valores del atributo y esto haga que no sea preciso en nuevos ejemplares.\n",
    "\n",
    "-------\n",
    "\n",
    "EXPLICACIÓN:\n",
    "\n",
    "El objetivo es que no quede ninguna característica del conjunto de datos sin representación en ninguno de los conjuntos de datos para una o más características en particular.\n",
    "\n",
    "-------\n",
    "\n",
    "SOLUCIÓN:\n",
    "\n",
    "Para evitar esto, se utiliza un metodo de sampling que se llama **\"Stratified sampling\"**. La población es dividida en subconjuntos homogéneos llamados **\"strata\"**. \n",
    "\n",
    "Sklearn introduce el parámetro **\"stratify\"** en la función **\"train_test_split\"** para controlar este comportamiento."
   ]
  },
  {
   "cell_type": "code",
   "execution_count": 14,
   "id": "27e8b2d0",
   "metadata": {},
   "outputs": [],
   "source": [
    "train_set, test_set = train_test_split(df, test_size=0.4, random_state=42, stratify=df[\"protocol_type\"])"
   ]
  },
  {
   "cell_type": "markdown",
   "id": "3574bba1",
   "metadata": {},
   "source": [
    "## Generacion de una función de Particionado"
   ]
  },
  {
   "cell_type": "code",
   "execution_count": 18,
   "id": "1edae3b1",
   "metadata": {},
   "outputs": [],
   "source": [
    "# Construccion de una funciona que genere el particionado completo\n",
    "def train_val_test_split(df, rstate=42, shuffle=True, stratify=None):\n",
    "    # List Comprehesion almacenado en var \n",
    "    strat= df[stratify] if stratify else None\n",
    "    # Partimos el DataSet en Train y test con la funcion()\n",
    "    train_set, test_set = train_test_split(df, test_size=0.4, random_state=rstate, shuffle=shuffle, stratify=strat)\n",
    "    #\n",
    "    # Aqui se repite el particionado pero de val y test\n",
    "    strat= test_set[stratify] if stratify else None\n",
    "    val_set, test_set = train_test_split(test_set, test_size=0.5, random_state=rstate, shuffle=shuffle, stratify=strat)\n",
    "    # Retorna  train,    val,      test \n",
    "    return (train_set, val_set, test_set)"
   ]
  },
  {
   "cell_type": "code",
   "execution_count": 19,
   "id": "e5b76b2d",
   "metadata": {},
   "outputs": [
    {
     "name": "stdout",
     "output_type": "stream",
     "text": [
      "Longitud del Conjunto de Datos:  125973\n"
     ]
    }
   ],
   "source": [
    "print(\"Longitud del Conjunto de Datos: \", len(df))"
   ]
  },
  {
   "cell_type": "code",
   "execution_count": 20,
   "id": "e458c69d",
   "metadata": {},
   "outputs": [],
   "source": [
    "train_set, val_set, test_set = train_val_test_split(df, stratify='protocol_type')"
   ]
  },
  {
   "cell_type": "code",
   "execution_count": 21,
   "id": "c10eb814",
   "metadata": {},
   "outputs": [
    {
     "name": "stdout",
     "output_type": "stream",
     "text": [
      "Longitud de Train Set:  75583\n",
      "Longitud de Test Sat:  25195\n",
      "Longitud de Validacion Set:  25195\n"
     ]
    }
   ],
   "source": [
    "print(\"Longitud de Train Set: \", len(train_set))\n",
    "print(\"Longitud de Test Sat: \", len(test_set))\n",
    "print(\"Longitud de Validacion Set: \", len(val_set))"
   ]
  },
  {
   "cell_type": "markdown",
   "id": "d0a5cd53",
   "metadata": {},
   "source": [
    "### Comprobacion del Parametro SRATIFY"
   ]
  },
  {
   "cell_type": "code",
   "execution_count": 23,
   "id": "6072cb73",
   "metadata": {},
   "outputs": [],
   "source": [
    "%matplotlib inline\n",
    "import matplotlib.pyplot as plt"
   ]
  },
  {
   "cell_type": "code",
   "execution_count": 24,
   "id": "a272b459",
   "metadata": {},
   "outputs": [
    {
     "data": {
      "text/plain": [
       "<AxesSubplot:>"
      ]
     },
     "execution_count": 24,
     "metadata": {},
     "output_type": "execute_result"
    },
    {
     "data": {
      "image/png": "[encoded data removed]",
      "text/plain": [
       "<Figure size 432x288 with 1 Axes>"
      ]
     },
     "metadata": {
      "needs_background": "light"
     },
     "output_type": "display_data"
    }
   ],
   "source": [
    "# Desde DataFrame proporcion de datos en el atributo \"protocol_type\"\n",
    "df[\"protocol_type\"].hist()"
   ]
  },
  {
   "cell_type": "code",
   "execution_count": 25,
   "id": "578a0a4a",
   "metadata": {},
   "outputs": [
    {
     "data": {
      "text/plain": [
       "<AxesSubplot:>"
      ]
     },
     "execution_count": 25,
     "metadata": {},
     "output_type": "execute_result"
    },
    {
     "data": {
      "image/png": "[encoded data removed]",
      "text/plain": [
       "<Figure size 432x288 with 1 Axes>"
      ]
     },
     "metadata": {
      "needs_background": "light"
     },
     "output_type": "display_data"
    }
   ],
   "source": [
    "#Desde train_set proporcion de datos en el atributo \"protocol_type\"\n",
    "train_set[\"protocol_type\"].hist()"
   ]
  },
  {
   "cell_type": "code",
   "execution_count": 26,
   "id": "63a72d77",
   "metadata": {},
   "outputs": [
    {
     "data": {
      "text/plain": [
       "<AxesSubplot:>"
      ]
     },
     "execution_count": 26,
     "metadata": {},
     "output_type": "execute_result"
    },
    {
     "data": {
      "image/png": "[encoded data removed]",
      "text/plain": [
       "<Figure size 432x288 with 1 Axes>"
      ]
     },
     "metadata": {
      "needs_background": "light"
     },
     "output_type": "display_data"
    }
   ],
   "source": [
    "# Desde test_set proporcion de datos en el atributo \"protocol_type\"\n",
    "test_set[\"protocol_type\"].hist()"
   ]
  },
  {
   "cell_type": "code",
   "execution_count": 27,
   "id": "af4bc045",
   "metadata": {},
   "outputs": [
    {
     "data": {
      "text/plain": [
       "<AxesSubplot:>"
      ]
     },
     "execution_count": 27,
     "metadata": {},
     "output_type": "execute_result"
    },
    {
     "data": {
      "image/png": "[encoded data removed]",
      "text/plain": [
       "<Figure size 432x288 with 1 Axes>"
      ]
     },
     "metadata": {
      "needs_background": "light"
     },
     "output_type": "display_data"
    }
   ],
   "source": [
    "# Desde val_set proporcion de datos en el atributo \"protocol_type\"\n",
    "val_set[\"protocol_type\"].hist()"
   ]
  },
  {
   "cell_type": "code",
   "execution_count": null,
   "id": "bd050387",
   "metadata": {},
   "outputs": [],
   "source": []
  }
 ],
 "metadata": {
  "hide_input": false,
  "kernelspec": {
   "display_name": "Python 3",
   "language": "python",
   "name": "python3"
  },
  "language_info": {
   "codemirror_mode": {
    "name": "ipython",
    "version": 3
   },
   "file_extension": ".py",
   "mimetype": "text/x-python",
   "name": "python",
   "nbconvert_exporter": "python",
   "pygments_lexer": "ipython3",
   "version": "3.8.10"
  },
  "nbTranslate": {
   "displayLangs": [
    "*"
   ],
   "hotkey": "alt-t",
   "langInMainMenu": true,
   "sourceLang": "en",
   "targetLang": "fr",
   "useGoogleTranslate": true
  },
  "toc": {
   "base_numbering": 1,
   "nav_menu": {},
   "number_sections": true,
   "sideBar": true,
   "skip_h1_title": false,
   "title_cell": "Table of Contents",
   "title_sidebar": "Contents",
   "toc_cell": false,
   "toc_position": {},
   "toc_section_display": true,
   "toc_window_display": false
  },
  "varInspector": {
   "cols": {
    "lenName": 16,
    "lenType": 16,
    "lenVar": 40
   },
   "kernels_config": {
    "python": {
     "delete_cmd_postfix": "",
     "delete_cmd_prefix": "del ",
     "library": "var_list.py",
     "varRefreshCmd": "print(var_dic_list())"
    },
    "r": {
     "delete_cmd_postfix": ") ",
     "delete_cmd_prefix": "rm(",
     "library": "var_list.r",
     "varRefreshCmd": "cat(var_dic_list()) "
    }
   },
   "types_to_exclude": [
    "module",
    "function",
    "builtin_function_or_method",
    "instance",
    "_Feature"
   ],
   "window_display": false
  }
 },
 "nbformat": 4,
 "nbformat_minor": 5
}
