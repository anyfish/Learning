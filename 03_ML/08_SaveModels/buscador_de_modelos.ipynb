{
 "cells": [
  {
   "cell_type": "code",
   "execution_count": 34,
   "id": "0ab16e4e-6dfc-46a7-ac74-057a2f90dc54",
   "metadata": {},
   "outputs": [],
   "source": [
    "# Manipulación de datos\n",
    "import pandas as pd\n",
    "\n",
    "# Operaciones Numéricas\n",
    "import numpy as np\n",
    "\n",
    "# Para medir el tiempo de ejecución\n",
    "from time import time\n",
    "\n",
    "# Modelo\n",
    "from sklearn.ensemble import RandomForestClassifier, AdaBoostClassifier\n",
    "from sklearn.svm import SVC\n",
    "from sklearn.naive_bayes import GaussianNB\n",
    "from sklearn.neighbors import KNeighborsClassifier\n",
    "\n",
    "# Precisión\n",
    "from sklearn.metrics import accuracy_score\n",
    "\n",
    "# Guardar Modelos\n",
    "from joblib import dump, load"
   ]
  },
  {
   "cell_type": "code",
   "execution_count": 35,
   "id": "78cfbdee-05f0-419a-8384-9879b4140331",
   "metadata": {},
   "outputs": [],
   "source": [
    "X_train = pd.read_csv(\"../../04_Dataset/Random_Forest_Luis_Contreras/X_train.csv\")\n",
    "X_test = pd.read_csv(\"../../04_Dataset/Random_Forest_Luis_Contreras/X_test.csv\")\n",
    "y_train = pd.read_csv(\"../../04_Dataset/Random_Forest_Luis_Contreras/y_train.csv\")\n",
    "y_test = pd.read_csv(\"../../04_Dataset/Random_Forest_Luis_Contreras/y_test.csv\")"
   ]
  },
  {
   "cell_type": "code",
   "execution_count": 36,
   "id": "d9de0857-a989-45d7-b741-1cc0c9d7188c",
   "metadata": {},
   "outputs": [],
   "source": [
    "nombres = [\n",
    "    \"Linear SVM\",\n",
    "    \"RBF SVM\",\n",
    "    \"Poly SVM\",\n",
    "    \"Poly SVM 2\",\n",
    "    \"Random Forest\",\n",
    "    \"KNN\",\n",
    "    \"AdaBoost\",\n",
    "    \"Naive Bayes\"]\n",
    "\n",
    "modelos = [\n",
    "    SVC(kernel=\"linear\"),\n",
    "    SVC(kernel=\"rbf\"),\n",
    "    SVC(kernel=\"poly\"),\n",
    "    SVC(kernel=\"poly\", decision_function_shape=\"ovo\"),\n",
    "    RandomForestClassifier(max_depth=5, n_estimators=10),\n",
    "    KNeighborsClassifier(3),\n",
    "    AdaBoostClassifier(),\n",
    "    GaussianNB()\n",
    "]"
   ]
  },
  {
   "cell_type": "code",
   "execution_count": 37,
   "id": "6bd3a97c-a6e0-4bc1-9455-df39a3909ee6",
   "metadata": {},
   "outputs": [
    {
     "data": {
      "text/plain": [
       "RangeIndex(start=0, stop=112, step=1)"
      ]
     },
     "execution_count": 37,
     "metadata": {},
     "output_type": "execute_result"
    }
   ],
   "source": [
    "y_train.index"
   ]
  },
  {
   "cell_type": "code",
   "execution_count": 38,
   "id": "6a1e604c-66e5-4253-b8ce-86cc15daabfc",
   "metadata": {},
   "outputs": [
    {
     "data": {
      "text/plain": [
       "RangeIndex(start=0, stop=112, step=1)"
      ]
     },
     "execution_count": 38,
     "metadata": {},
     "output_type": "execute_result"
    }
   ],
   "source": [
    "X_train.index"
   ]
  },
  {
   "cell_type": "code",
   "execution_count": 39,
   "id": "a5eb739a-9f5b-422e-a501-3421beff2825",
   "metadata": {},
   "outputs": [
    {
     "name": "stdout",
     "output_type": "stream",
     "text": [
      "Linear SVM\n",
      "0.9473684210526315\n",
      "=====\n",
      "RBF SVM\n",
      "0.9473684210526315\n",
      "=====\n",
      "Poly SVM\n",
      "0.9473684210526315\n",
      "=====\n",
      "Poly SVM 2\n",
      "0.9473684210526315\n",
      "=====\n",
      "Random Forest\n",
      "0.9210526315789473\n",
      "=====\n",
      "KNN\n",
      "0.9473684210526315\n",
      "=====\n",
      "AdaBoost\n",
      "0.9210526315789473\n",
      "=====\n",
      "Naive Bayes\n",
      "0.9210526315789473\n",
      "=====\n"
     ]
    }
   ],
   "source": [
    "for indice, clf in enumerate(modelos):\n",
    "    # ravel regresa una matriz aplanada\n",
    "    # entrenar\n",
    "    clf.fit(X_train, y_train.values.ravel())\n",
    "    # predecir\n",
    "    y_pred = clf.predict(X_test)\n",
    "    print(nombres[indice])\n",
    "    # Validar\n",
    "    print(accuracy_score(y_test, y_pred))\n",
    "    print(\"=====\")\n",
    "    # Exportar modelo\n",
    "    dump(clf, f'{nombres[indice]}.joblib')"
   ]
  },
  {
   "cell_type": "code",
   "execution_count": null,
   "id": "f89fd8ca-8f1f-4ee7-b924-f89fb1b12fdb",
   "metadata": {},
   "outputs": [],
   "source": []
  }
 ],
 "metadata": {
  "kernelspec": {
   "display_name": "Python 3 (ipykernel)",
   "language": "python",
   "name": "python3"
  },
  "language_info": {
   "codemirror_mode": {
    "name": "ipython",
    "version": 3
   },
   "file_extension": ".py",
   "mimetype": "text/x-python",
   "name": "python",
   "nbconvert_exporter": "python",
   "pygments_lexer": "ipython3",
   "version": "3.10.4"
  }
 },
 "nbformat": 4,
 "nbformat_minor": 5
}
