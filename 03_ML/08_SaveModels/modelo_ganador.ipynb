{
 "cells": [
  {
   "cell_type": "code",
   "execution_count": 26,
   "id": "0e2ea8d0-6be9-4cb6-a7f2-4b4e1c637c71",
   "metadata": {},
   "outputs": [],
   "source": [
    "from joblib import load\n",
    "import pandas as pd\n",
    "from sklearn.metrics import accuracy_score"
   ]
  },
  {
   "cell_type": "code",
   "execution_count": 30,
   "id": "7962e7a0-27f5-429b-850a-15f14e9d8b72",
   "metadata": {},
   "outputs": [],
   "source": [
    "model = load('Modelos/Linear SVM.joblib')"
   ]
  },
  {
   "cell_type": "code",
   "execution_count": 31,
   "id": "c846f0cb-e2ca-4bbe-b494-70f4fdda6517",
   "metadata": {},
   "outputs": [
    {
     "data": {
      "text/plain": [
       "array([0, 1, 2], dtype=int64)"
      ]
     },
     "execution_count": 31,
     "metadata": {},
     "output_type": "execute_result"
    }
   ],
   "source": [
    "model.classes_"
   ]
  },
  {
   "cell_type": "code",
   "execution_count": 32,
   "id": "7bb747d8-8050-49ee-afd0-f0679bdd9bd2",
   "metadata": {},
   "outputs": [],
   "source": [
    "X_test = pd.read_csv(\"../../04_Dataset/Random_Forest_Luis_Contreras/X_test.csv\")"
   ]
  },
  {
   "cell_type": "code",
   "execution_count": 33,
   "id": "74b31816-b625-418c-ba27-bdf05caf9f9a",
   "metadata": {},
   "outputs": [
    {
     "data": {
      "text/plain": [
       "array([2, 2, 1, 1, 2, 1, 1, 0, 0, 1, 2, 1, 1, 1, 1, 1, 0, 2, 1, 1, 1, 0,\n",
       "       0, 0, 2, 0, 0, 0, 1, 0, 1, 1, 0, 1, 2, 2, 1, 2], dtype=int64)"
      ]
     },
     "execution_count": 33,
     "metadata": {},
     "output_type": "execute_result"
    }
   ],
   "source": [
    "y_pred = model.predict(X_test)\n",
    "y_pred"
   ]
  },
  {
   "cell_type": "code",
   "execution_count": 34,
   "id": "9bc163f7-d611-471b-af47-3d2e1be76aed",
   "metadata": {},
   "outputs": [],
   "source": [
    "y_test = pd.read_csv(\"../../04_Dataset/Random_Forest_Luis_Contreras/y_test.csv\")"
   ]
  },
  {
   "cell_type": "code",
   "execution_count": 35,
   "id": "194e8602-53fb-49a4-94ff-1e7d0b34c4b8",
   "metadata": {},
   "outputs": [
    {
     "data": {
      "text/plain": [
       "0.9473684210526315"
      ]
     },
     "execution_count": 35,
     "metadata": {},
     "output_type": "execute_result"
    }
   ],
   "source": [
    "accuracy_score(y_test, y_pred)"
   ]
  }
 ],
 "metadata": {
  "kernelspec": {
   "display_name": "Python 3 (ipykernel)",
   "language": "python",
   "name": "python3"
  },
  "language_info": {
   "codemirror_mode": {
    "name": "ipython",
    "version": 3
   },
   "file_extension": ".py",
   "mimetype": "text/x-python",
   "name": "python",
   "nbconvert_exporter": "python",
   "pygments_lexer": "ipython3",
   "version": "3.10.4"
  }
 },
 "nbformat": 4,
 "nbformat_minor": 5
}
