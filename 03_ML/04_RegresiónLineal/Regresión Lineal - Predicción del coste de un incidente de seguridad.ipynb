{
 "cells": [
  {
   "cell_type": "markdown",
   "id": "1034f832",
   "metadata": {},
   "source": [
    "# Regresión Lineal: Coste de un incidente de Seguridad\n",
    "En este ejercicio se explican los fundamentos básicos de la regresión lineal aplicada a un caso de uso sencillo relacionado con la Ciberseguridad.\n",
    "\n",
    "-----> Ejercicio realizado con una base de datos creada de manera artesanal.\n",
    "-----> Implementacion practica de algoritmo de regrecion lineal con el FRAMEWORK SCIKIT-LEARN"
   ]
  },
  {
   "cell_type": "markdown",
   "id": "8c57d63f",
   "metadata": {},
   "source": [
    "## Enunciado del ejercicio\n",
    "El ejercicio consiste en predecir el costo de un incidente de seguridad con base al número de equipos que se han visto afectados. El conjunto de datos es gererado de manera aleatoria.\n",
    "\n"
   ]
  },
  {
   "cell_type": "markdown",
   "id": "3fbb97f6",
   "metadata": {},
   "source": [
    "# Ejercicio"
   ]
  },
  {
   "cell_type": "markdown",
   "id": "bc43e8ca",
   "metadata": {},
   "source": [
    "## Generacion del conjunto de datos."
   ]
  },
  {
   "cell_type": "code",
   "execution_count": 3,
   "id": "0b397f5d",
   "metadata": {},
   "outputs": [
    {
     "name": "stdout",
     "output_type": "stream",
     "text": [
      "La longitud del conjunto de datos es:  100\n"
     ]
    },
    {
     "data": {
      "text/plain": [
       "array([[ 1.49446964],\n",
       "       [ 1.98505363],\n",
       "       [-0.25386058],\n",
       "       [ 0.13163049],\n",
       "       [ 0.92378926],\n",
       "       [ 1.27033993],\n",
       "       [-5.57553858],\n",
       "       [ 3.07215427],\n",
       "       [-1.09654926],\n",
       "       [-1.04525812],\n",
       "       [-3.86903494],\n",
       "       [-0.41575023],\n",
       "       [-3.39094157],\n",
       "       [ 2.51353864],\n",
       "       [-1.07576409],\n",
       "       [ 1.09527137],\n",
       "       [ 1.47784872],\n",
       "       [ 1.22364361],\n",
       "       [-1.57309128],\n",
       "       [ 0.21838031],\n",
       "       [-2.16594414],\n",
       "       [ 1.86292943],\n",
       "       [ 1.98130151],\n",
       "       [-1.8816426 ],\n",
       "       [ 0.84501931],\n",
       "       [-2.52579303],\n",
       "       [-3.29231573],\n",
       "       [ 0.8558165 ],\n",
       "       [-1.7258124 ],\n",
       "       [ 0.44491887],\n",
       "       [ 1.73832085],\n",
       "       [ 2.5966382 ],\n",
       "       [-2.37619003],\n",
       "       [ 1.02794545],\n",
       "       [-0.54258081],\n",
       "       [ 0.10249537],\n",
       "       [-2.27715233],\n",
       "       [ 1.19623968],\n",
       "       [-2.28885503],\n",
       "       [-0.54057529],\n",
       "       [ 2.1795619 ],\n",
       "       [ 4.01998694],\n",
       "       [-0.70197225],\n",
       "       [-0.10261343],\n",
       "       [ 0.60336573],\n",
       "       [-4.12033579],\n",
       "       [ 0.16006554],\n",
       "       [ 0.29480871],\n",
       "       [ 0.27984553],\n",
       "       [ 2.02978798],\n",
       "       [-1.35474436],\n",
       "       [-3.43776261],\n",
       "       [-3.03343992],\n",
       "       [-1.30309437],\n",
       "       [ 2.29571586],\n",
       "       [ 0.35280419],\n",
       "       [-0.1860011 ],\n",
       "       [ 0.14187815],\n",
       "       [ 0.40005314],\n",
       "       [-0.5367658 ],\n",
       "       [ 0.02297207],\n",
       "       [ 0.18990301],\n",
       "       [-2.83976651],\n",
       "       [ 3.68880404],\n",
       "       [-2.2548715 ],\n",
       "       [-0.51869899],\n",
       "       [-2.44783251],\n",
       "       [ 2.63770343],\n",
       "       [ 0.18367609],\n",
       "       [-1.0547134 ],\n",
       "       [ 1.91190708],\n",
       "       [-3.84916267],\n",
       "       [ 1.47900986],\n",
       "       [-0.91002454],\n",
       "       [-0.84312671],\n",
       "       [ 2.98380153],\n",
       "       [-1.09226833],\n",
       "       [ 0.33459969],\n",
       "       [ 0.37959175],\n",
       "       [ 2.41161202],\n",
       "       [-2.05379798],\n",
       "       [ 0.14246694],\n",
       "       [ 1.35597696],\n",
       "       [-1.25659001],\n",
       "       [ 1.58320331],\n",
       "       [ 0.56308676],\n",
       "       [-2.65372748],\n",
       "       [ 2.1019816 ],\n",
       "       [-2.01862137],\n",
       "       [-3.12112144],\n",
       "       [ 0.81489323],\n",
       "       [-0.21093852],\n",
       "       [-1.14876652],\n",
       "       [ 1.22754075],\n",
       "       [-2.06550682],\n",
       "       [ 0.06267968],\n",
       "       [ 5.02499951],\n",
       "       [-0.50999442],\n",
       "       [ 0.97531858],\n",
       "       [-0.73550443]])"
      ]
     },
     "execution_count": 3,
     "metadata": {},
     "output_type": "execute_result"
    }
   ],
   "source": [
    "import numpy as np\n",
    "\n",
    "# Inicialización del array con valores aleatorios\n",
    "# Número de valores (z) , vertical (y) , horizontal (x)\n",
    "# X corresponde al número de equipos afectados\n",
    "X = 2 * np.random.randn(100, 1)\n",
    "# y corresponde al coste de los incidentes\n",
    "y = 4 + 3 * X + np.random.randn(100, 1)\n",
    "\n",
    "print(\"La longitud del conjunto de datos es: \", len(X))\n",
    "X"
   ]
  },
  {
   "cell_type": "code",
   "execution_count": 4,
   "id": "dc91024a",
   "metadata": {},
   "outputs": [],
   "source": [
    "import matplotlib.pyplot as plt\n",
    "%matplotlib inline"
   ]
  },
  {
   "cell_type": "code",
   "execution_count": 6,
   "id": "fc570d4f",
   "metadata": {},
   "outputs": [
    {
     "data": {
      "image/png": "[encoded data removed]",
      "text/plain": [
       "<Figure size 432x288 with 1 Axes>"
      ]
     },
     "metadata": {
      "needs_background": "light"
     },
     "output_type": "display_data"
    }
   ],
   "source": [
    "#b es del color\n",
    "plt.plot(X, y, \"b-\")\n",
    "plt.show()"
   ]
  },
  {
   "cell_type": "code",
   "execution_count": 7,
   "id": "c15336af",
   "metadata": {},
   "outputs": [
    {
     "data": {
      "image/png": "[encoded data removed]",
      "text/plain": [
       "<Figure size 432x288 with 1 Axes>"
      ]
     },
     "metadata": {
      "needs_background": "light"
     },
     "output_type": "display_data"
    }
   ],
   "source": [
    "#b. es el color y la forma en la que se representaran los datos \".\",\"-\",\"--\",\"x\",\"o\",\"p\"...etc\n",
    "plt.plot(X, y, \"b.\")\n",
    "plt.xlabel(\"Equipos afectados (u/1000)\")\n",
    "plt.ylabel(\"Coste del incidente (u/1000)\")\n",
    "plt.show()"
   ]
  },
  {
   "cell_type": "markdown",
   "id": "f66e5f38",
   "metadata": {},
   "source": [
    "## Modificacion del conjunto de datos"
   ]
  },
  {
   "cell_type": "code",
   "execution_count": 8,
   "id": "5c7b6971",
   "metadata": {},
   "outputs": [],
   "source": [
    "import pandas as pd"
   ]
  },
  {
   "cell_type": "code",
   "execution_count": 51,
   "id": "6ca78334",
   "metadata": {},
   "outputs": [
    {
     "data": {
      "text/html": [
       "<div>\n",
       "<style scoped>\n",
       "    .dataframe tbody tr th:only-of-type {\n",
       "        vertical-align: middle;\n",
       "    }\n",
       "\n",
       "    .dataframe tbody tr th {\n",
       "        vertical-align: top;\n",
       "    }\n",
       "\n",
       "    .dataframe thead th {\n",
       "        text-align: right;\n",
       "    }\n",
       "</style>\n",
       "<table border=\"1\" class=\"dataframe\">\n",
       "  <thead>\n",
       "    <tr style=\"text-align: right;\">\n",
       "      <th></th>\n",
       "      <th>n_equipos_afectados</th>\n",
       "      <th>coste</th>\n",
       "    </tr>\n",
       "  </thead>\n",
       "  <tbody>\n",
       "    <tr>\n",
       "      <th>0</th>\n",
       "      <td>-1.508820</td>\n",
       "      <td>-0.419427</td>\n",
       "    </tr>\n",
       "    <tr>\n",
       "      <th>1</th>\n",
       "      <td>-3.770632</td>\n",
       "      <td>-6.744354</td>\n",
       "    </tr>\n",
       "    <tr>\n",
       "      <th>2</th>\n",
       "      <td>-2.836275</td>\n",
       "      <td>-2.843138</td>\n",
       "    </tr>\n",
       "    <tr>\n",
       "      <th>3</th>\n",
       "      <td>0.667582</td>\n",
       "      <td>6.451826</td>\n",
       "    </tr>\n",
       "    <tr>\n",
       "      <th>4</th>\n",
       "      <td>0.353796</td>\n",
       "      <td>6.078555</td>\n",
       "    </tr>\n",
       "    <tr>\n",
       "      <th>5</th>\n",
       "      <td>2.528919</td>\n",
       "      <td>12.238539</td>\n",
       "    </tr>\n",
       "    <tr>\n",
       "      <th>6</th>\n",
       "      <td>1.117355</td>\n",
       "      <td>7.223433</td>\n",
       "    </tr>\n",
       "    <tr>\n",
       "      <th>7</th>\n",
       "      <td>-0.744986</td>\n",
       "      <td>1.818921</td>\n",
       "    </tr>\n",
       "    <tr>\n",
       "      <th>8</th>\n",
       "      <td>1.162794</td>\n",
       "      <td>6.214069</td>\n",
       "    </tr>\n",
       "    <tr>\n",
       "      <th>9</th>\n",
       "      <td>-0.879867</td>\n",
       "      <td>1.947981</td>\n",
       "    </tr>\n",
       "  </tbody>\n",
       "</table>\n",
       "</div>"
      ],
      "text/plain": [
       "   n_equipos_afectados      coste\n",
       "0            -1.508820  -0.419427\n",
       "1            -3.770632  -6.744354\n",
       "2            -2.836275  -2.843138\n",
       "3             0.667582   6.451826\n",
       "4             0.353796   6.078555\n",
       "5             2.528919  12.238539\n",
       "6             1.117355   7.223433\n",
       "7            -0.744986   1.818921\n",
       "8             1.162794   6.214069\n",
       "9            -0.879867   1.947981"
      ]
     },
     "execution_count": 51,
     "metadata": {},
     "output_type": "execute_result"
    }
   ],
   "source": [
    "#Creamos un diccionario con los datos que corresponderan a equipos y coste.\n",
    "#El data frame es lineal por eso se una flatten.... equipos es \"x\" y coste es la etiqueta de salida\n",
    "#             CLAVE             VALOR\n",
    "data = {'n_equipos_afectados': X.flatten(), 'coste': y.flatten()}\n",
    "#Asignamos BD a un DataFrame de Pandas.\n",
    "df = pd.DataFrame(data)\n",
    "#Mostrar cabecera de elementos\n",
    "df.head(10)"
   ]
  },
  {
   "cell_type": "code",
   "execution_count": 26,
   "id": "6961a55e",
   "metadata": {},
   "outputs": [
    {
     "data": {
      "text/html": [
       "<div>\n",
       "<style scoped>\n",
       "    .dataframe tbody tr th:only-of-type {\n",
       "        vertical-align: middle;\n",
       "    }\n",
       "\n",
       "    .dataframe tbody tr th {\n",
       "        vertical-align: top;\n",
       "    }\n",
       "\n",
       "    .dataframe thead th {\n",
       "        text-align: right;\n",
       "    }\n",
       "</style>\n",
       "<table border=\"1\" class=\"dataframe\">\n",
       "  <thead>\n",
       "    <tr style=\"text-align: right;\">\n",
       "      <th></th>\n",
       "      <th>n_equipos_afectados</th>\n",
       "      <th>coste</th>\n",
       "    </tr>\n",
       "  </thead>\n",
       "  <tbody>\n",
       "    <tr>\n",
       "      <th>0</th>\n",
       "      <td>1584</td>\n",
       "      <td>95847</td>\n",
       "    </tr>\n",
       "    <tr>\n",
       "      <th>1</th>\n",
       "      <td>3586</td>\n",
       "      <td>138518</td>\n",
       "    </tr>\n",
       "    <tr>\n",
       "      <th>2</th>\n",
       "      <td>-2607</td>\n",
       "      <td>-23392</td>\n",
       "    </tr>\n",
       "    <tr>\n",
       "      <th>3</th>\n",
       "      <td>-1963</td>\n",
       "      <td>-34081</td>\n",
       "    </tr>\n",
       "    <tr>\n",
       "      <th>4</th>\n",
       "      <td>-369</td>\n",
       "      <td>27838</td>\n",
       "    </tr>\n",
       "    <tr>\n",
       "      <th>...</th>\n",
       "      <td>...</td>\n",
       "      <td>...</td>\n",
       "    </tr>\n",
       "    <tr>\n",
       "      <th>95</th>\n",
       "      <td>1568</td>\n",
       "      <td>82040</td>\n",
       "    </tr>\n",
       "    <tr>\n",
       "      <th>96</th>\n",
       "      <td>-154</td>\n",
       "      <td>31465</td>\n",
       "    </tr>\n",
       "    <tr>\n",
       "      <th>97</th>\n",
       "      <td>-1402</td>\n",
       "      <td>-9266</td>\n",
       "    </tr>\n",
       "    <tr>\n",
       "      <th>98</th>\n",
       "      <td>240</td>\n",
       "      <td>60221</td>\n",
       "    </tr>\n",
       "    <tr>\n",
       "      <th>99</th>\n",
       "      <td>1200</td>\n",
       "      <td>61258</td>\n",
       "    </tr>\n",
       "  </tbody>\n",
       "</table>\n",
       "<p>100 rows × 2 columns</p>\n",
       "</div>"
      ],
      "text/plain": [
       "    n_equipos_afectados   coste\n",
       "0                  1584   95847\n",
       "1                  3586  138518\n",
       "2                 -2607  -23392\n",
       "3                 -1963  -34081\n",
       "4                  -369   27838\n",
       "..                  ...     ...\n",
       "95                 1568   82040\n",
       "96                 -154   31465\n",
       "97                -1402   -9266\n",
       "98                  240   60221\n",
       "99                 1200   61258\n",
       "\n",
       "[100 rows x 2 columns]"
      ]
     },
     "execution_count": 26,
     "metadata": {},
     "output_type": "execute_result"
    }
   ],
   "source": [
    "#Escalado del número de equipos afectados\n",
    "df['n_equipos_afectados'] = df['n_equipos_afectados'] * 1000\n",
    "df['n_equipos_afectados'] = df['n_equipos_afectados'].astype('int')\n",
    "#Escalado del coste\n",
    "df['coste'] = df['coste'] * 10000\n",
    "df['coste'] = df['coste'].astype('int')\n",
    "#df queda como el data frame de equipos y coste\n",
    "df.head(1000)\n"
   ]
  },
  {
   "cell_type": "code",
   "execution_count": 52,
   "id": "177b8fc3",
   "metadata": {},
   "outputs": [
    {
     "data": {
      "image/png": "[encoded data removed]",
      "text/plain": [
       "<Figure size 432x288 with 1 Axes>"
      ]
     },
     "metadata": {
      "needs_background": "light"
     },
     "output_type": "display_data"
    }
   ],
   "source": [
    "#Representacion gráfica del conjunto de datos\n",
    "#                 Eje X                Eje Y\n",
    "plt.plot(df['n_equipos_afectados'], df['coste'], \"b.\")\n",
    "plt.xlabel(\"Equipos Afectados\")\n",
    "plt.ylabel(\"Coste del accidente\")\n",
    "plt.show()\n"
   ]
  },
  {
   "cell_type": "markdown",
   "id": "4792970f",
   "metadata": {},
   "source": [
    "## Construcción del Modelo"
   ]
  },
  {
   "cell_type": "code",
   "execution_count": 53,
   "id": "1a396654",
   "metadata": {},
   "outputs": [],
   "source": [
    "# Aqui es donde se entrena\n",
    "from sklearn.linear_model import LinearRegression"
   ]
  },
  {
   "cell_type": "code",
   "execution_count": 86,
   "id": "8716568d",
   "metadata": {},
   "outputs": [
    {
     "data": {
      "text/plain": [
       "LinearRegression()"
      ]
     },
     "execution_count": 86,
     "metadata": {},
     "output_type": "execute_result"
    }
   ],
   "source": [
    "# Construcción del modelo y ajuste de la función hipótesis\n",
    "# Instanciamos el objeto (instanceamos el algoritmo)\n",
    "lin_reg = LinearRegression()\n",
    "# Resive las... VARIABLES DE ENTRADA                       VARIABLES DE SALIDA\n",
    "lin_reg.fit(df['n_equipos_afectados'].values.reshape(-1,1), df['coste'].values)"
   ]
  },
  {
   "cell_type": "code",
   "execution_count": 87,
   "id": "82dd5369",
   "metadata": {},
   "outputs": [
    {
     "data": {
      "text/plain": [
       "4.185813735421704"
      ]
     },
     "execution_count": 87,
     "metadata": {},
     "output_type": "execute_result"
    }
   ],
   "source": [
    "# Parámetro theta 0  =  bias\n",
    "# Va a cortar en el eje vertical en 4.18\n",
    "lin_reg.intercept_"
   ]
  },
  {
   "cell_type": "code",
   "execution_count": 88,
   "id": "6074d2e3",
   "metadata": {},
   "outputs": [
    {
     "data": {
      "text/plain": [
       "array([2.90644825])"
      ]
     },
     "execution_count": 88,
     "metadata": {},
     "output_type": "execute_result"
    }
   ],
   "source": [
    "# Parametro theta 1  =  X's\n",
    "# Si tuvieramos más datos en x aparecerian en el array por cada tipo valor de entrada\n",
    "lin_reg.coef_"
   ]
  },
  {
   "cell_type": "code",
   "execution_count": 89,
   "id": "d0572366",
   "metadata": {},
   "outputs": [],
   "source": [
    "# Predicción para el valor mínimo y máximo del conjunto de datos de entrenamiento\n",
    "# Esto se hace con el objetivo de reprentar graficamente el modelo (limite de decisión)\n",
    "X_min_max = np.array([[df['n_equipos_afectados'].min()], [df['n_equipos_afectados'].max()]])\n",
    "y_train_pred = lin_reg.predict(X_min_max)"
   ]
  },
  {
   "cell_type": "code",
   "execution_count": 90,
   "id": "9a4c5fcf",
   "metadata": {},
   "outputs": [
    {
     "data": {
      "image/png": "[encoded data removed]",
      "text/plain": [
       "<Figure size 432x288 with 1 Axes>"
      ]
     },
     "metadata": {
      "needs_background": "light"
     },
     "output_type": "display_data"
    }
   ],
   "source": [
    "# Representación gráfica de la función hipótesis generada\n",
    "plt.plot(X_min_max, y_train_pred,\"g-\")\n",
    "plt.plot(df['n_equipos_afectados'], df['coste'], \"b.\")\n",
    "plt.xlabel(\"Equipos Afectados\")\n",
    "plt.ylabel(\"Coste del incidente\")\n",
    "plt.show()"
   ]
  },
  {
   "cell_type": "markdown",
   "id": "2575d1a5",
   "metadata": {},
   "source": [
    "## Predicción de nuevos ejemplos"
   ]
  },
  {
   "cell_type": "code",
   "execution_count": 91,
   "id": "76a81725",
   "metadata": {},
   "outputs": [
    {
     "name": "stdout",
     "output_type": "stream",
     "text": [
      "El coste del incidente sería: 3782 €\n"
     ]
    }
   ],
   "source": [
    "x_new = np.array([[1300]]) # 1300 equipos afectados\n",
    "\n",
    "# Predicción del coste que tendría el incidente\n",
    "coste = lin_reg.predict(x_new) \n",
    "\n",
    "print(\"El coste del incidente sería:\", int(coste[0]), \"€\")"
   ]
  },
  {
   "cell_type": "code",
   "execution_count": 93,
   "id": "e0e80ef6",
   "metadata": {},
   "outputs": [
    {
     "data": {
      "image/png": "[encoded data removed]",
      "text/plain": [
       "<Figure size 432x288 with 1 Axes>"
      ]
     },
     "metadata": {
      "needs_background": "light"
     },
     "output_type": "display_data"
    }
   ],
   "source": [
    "plt.plot(X_min_max, y_train_pred,\"g-\")\n",
    "plt.plot(df['n_equipos_afectados'], df['coste'], \"b.\")\n",
    "plt.plot(x_new, coste, \"rx\")\n",
    "plt.xlabel(\"Equipos afectados\")\n",
    "plt.ylabel(\"Coste del incidente\")\n",
    "plt.show()"
   ]
  },
  {
   "cell_type": "code",
   "execution_count": null,
   "id": "3c843c80",
   "metadata": {},
   "outputs": [],
   "source": []
  }
 ],
 "metadata": {
  "hide_input": false,
  "kernelspec": {
   "display_name": "Python 3",
   "language": "python",
   "name": "python3"
  },
  "language_info": {
   "codemirror_mode": {
    "name": "ipython",
    "version": 3
   },
   "file_extension": ".py",
   "mimetype": "text/x-python",
   "name": "python",
   "nbconvert_exporter": "python",
   "pygments_lexer": "ipython3",
   "version": "3.8.10"
  },
  "nbTranslate": {
   "displayLangs": [
    "*"
   ],
   "hotkey": "alt-t",
   "langInMainMenu": true,
   "sourceLang": "en",
   "targetLang": "fr",
   "useGoogleTranslate": true
  },
  "toc": {
   "base_numbering": 1,
   "nav_menu": {},
   "number_sections": true,
   "sideBar": true,
   "skip_h1_title": false,
   "title_cell": "Table of Contents",
   "title_sidebar": "Contents",
   "toc_cell": false,
   "toc_position": {},
   "toc_section_display": true,
   "toc_window_display": false
  },
  "varInspector": {
   "cols": {
    "lenName": 16,
    "lenType": 16,
    "lenVar": 40
   },
   "kernels_config": {
    "python": {
     "delete_cmd_postfix": "",
     "delete_cmd_prefix": "del ",
     "library": "var_list.py",
     "varRefreshCmd": "print(var_dic_list())"
    },
    "r": {
     "delete_cmd_postfix": ") ",
     "delete_cmd_prefix": "rm(",
     "library": "var_list.r",
     "varRefreshCmd": "cat(var_dic_list()) "
    }
   },
   "types_to_exclude": [
    "module",
    "function",
    "builtin_function_or_method",
    "instance",
    "_Feature"
   ],
   "window_display": false
  }
 },
 "nbformat": 4,
 "nbformat_minor": 5
}
